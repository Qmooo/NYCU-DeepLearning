{
 "cells": [
  {
   "cell_type": "code",
   "execution_count": null,
   "metadata": {},
   "outputs": [
    {
     "name": "stdout",
     "output_type": "stream",
     "text": [
      "Epoch 600, loss: 1.2345, accuracy: 0.87654321\n",
      "Epoch  600, loss: 1.23, accuracy: 87.65%\n"
     ]
    }
   ],
   "source": [
    "# Format string\n",
    "epoch, loss, acc=600, 1.2345, 0.87654321\n",
    "print(f'Epoch {epoch}, loss: {loss}, accuracy: {acc}')\n",
    "print(f'Epoch {epoch:4d}, loss: {loss:.2f}, accuracy: {acc:.2%}' )"
   ]
  },
  {
   "cell_type": "code",
   "execution_count": 20,
   "metadata": {},
   "outputs": [
    {
     "name": "stdout",
     "output_type": "stream",
     "text": [
      "Epoch:{epoch}, loss:{loss}\n",
      "Epoch:600, loss:0.12345\n",
      "Epoch: {:4d}, loss: {:.2f}\n",
      "Epoch:  600, loss: 0.12\n"
     ]
    }
   ],
   "source": [
    "# Format\n",
    "epoch, loss = 600, 0.12345\n",
    "a = 'Epoch:{epoch}, loss:{loss}'\n",
    "print(a)\n",
    "print(a.format(epoch = epoch, loss = loss))\n",
    "\n",
    "b = 'Epoch: {:4d}, loss: {:.2f}'\n",
    "print(b)\n",
    "# 初始化 GitHub 仓库的步骤:\n",
    "# 1. 创建一个新的本地目录\n",
    "# 2. 在该目录中运行 git init\n",
    "# 3. 添加文件到暂存区 (git add .)\n",
    "# 4. 提交更改 (git commit -m \"Initial commit\")\n",
    "# 5. 在 GitHub 上创建一个新的仓库\n",
    "# 6. 将本地仓库与远程仓库关联\n",
    "# 7. 推送代码到远程仓库\n",
    "\n",
    "# 示例命令:\n",
    "# mkdir my_project\n",
    "# cd my_project\n",
    "# git init\n",
    "# git add .\n",
    "# git commit -m \"Initial commit\"\n",
    "# git remote add origin https://github.com/username/repo_name.git\n",
    "# git push -u origin master\n",
    "\n",
    "print(\"请按照上述步骤初始化您的 GitHub 仓库\")"
   ]
  },
  {
   "cell_type": "code",
   "execution_count": 22,
   "metadata": {},
   "outputs": [
    {
     "name": "stdout",
     "output_type": "stream",
     "text": [
      "0 a\n",
      "1 b\n",
      "2 c\n"
     ]
    }
   ],
   "source": [
    "# enumerate\n",
    "data = ['a', 'b', 'c']\n",
    "#data = [Img(), Img(), Img()]\n",
    "\n",
    "for i, x in enumerate(data):\n",
    "    print(i,x)"
   ]
  },
  {
   "cell_type": "code",
   "execution_count": 23,
   "metadata": {},
   "outputs": [
    {
     "name": "stdout",
     "output_type": "stream",
     "text": [
      "Max: 3, Min: 1, Sum: 6, Len: 3\n"
     ]
    }
   ],
   "source": [
    "data = [1, 3, 2]\n",
    "print(f'Max: {max(data)}, Min: {min(data)}, Sum: {sum(data)}, Len: {len(data)}')"
   ]
  },
  {
   "cell_type": "code",
   "execution_count": 27,
   "metadata": {},
   "outputs": [
    {
     "name": "stdout",
     "output_type": "stream",
     "text": [
      "if all done: False, if any done: True\n"
     ]
    }
   ],
   "source": [
    "# dones = [True, True, True, True]\n",
    "# dones = [False, False, False, False]\n",
    "dones = [True, False, True, True]\n",
    "\n",
    "all_done = all(dones) # check all bool value in array are True\n",
    "any_done = any(dones) # check any bool value is True in array\n",
    "\n",
    "print(f'if all done: {all_done}, if any done: {any_done}')"
   ]
  },
  {
   "cell_type": "code",
   "execution_count": 37,
   "metadata": {},
   "outputs": [],
   "source": [
    "# mode 'r': read (default)\n",
    "# mode 'w': write\n",
    "# mode 'a': append\n",
    "f = open('test.txt','w')\n",
    "f.write('zzz')\n",
    "f.close()"
   ]
  },
  {
   "cell_type": "code",
   "execution_count": 34,
   "metadata": {},
   "outputs": [],
   "source": [
    "with open('test.txt', 'w') as f:\n",
    "    print('zzz of print', file = f) # print in file\n",
    "    f.write('zzz of write function') # write in file"
   ]
  },
  {
   "cell_type": "code",
   "execution_count": 46,
   "metadata": {},
   "outputs": [
    {
     "name": "stdout",
     "output_type": "stream",
     "text": [
      "num: 12, bias: 1, sum: 13\n",
      "num: 10, bias: 1, sum: 11\n",
      "num: 7, bias: 0, sum: 7\n",
      "index: 1, num: 12, bias: 1, sum: 13\n",
      "index: 2, num: 10, bias: 1, sum: 11\n",
      "index: 3, num: 7, bias: 0, sum: 7\n"
     ]
    }
   ],
   "source": [
    "numbers = [12, 10, 7]\n",
    "biases = [1, 1, 0]\n",
    "\n",
    "# logic: zip only combine same length array element.\n",
    "for num, bias in zip(numbers, biases):\n",
    "    print(f'num: {num}, bias: {bias}, sum: {num+bias}')\n",
    "\n",
    "# something else\n",
    "for i, (num, bias) in enumerate(zip(numbers,biases), start=1):\n",
    "    print(f'index: {i}, num: {num}, bias: {bias}, sum: {num+bias}')"
   ]
  },
  {
   "cell_type": "code",
   "execution_count": 50,
   "metadata": {},
   "outputs": [
    {
     "name": "stdout",
     "output_type": "stream",
     "text": [
      "[1, 2, 3]\n",
      "['1x', '2x', '3x']\n"
     ]
    }
   ],
   "source": [
    "s = '1'\n",
    "i = int(s)\n",
    "\n",
    "raw_data = ['1', '2', '3']\n",
    "data = list(map(int, raw_data))\n",
    "print(data)\n",
    "\n",
    "# something else\n",
    "raw_data = ['1', '2', '3']\n",
    "data = list(map(lambda n: n + 'x', raw_data))\n",
    "print(data)"
   ]
  },
  {
   "cell_type": "code",
   "execution_count": 59,
   "metadata": {},
   "outputs": [
    {
     "name": "stdout",
     "output_type": "stream",
     "text": [
      "[(32, 64), (64, 128), (128, 256), (256, 512)]\n"
     ]
    }
   ],
   "source": [
    "# practice\n",
    "input = [32, 64, 128, 256, 512]\n",
    "\n",
    "output = list(zip(input[:-1], input[1:]))\n",
    "print(output)"
   ]
  },
  {
   "cell_type": "code",
   "execution_count": 64,
   "metadata": {},
   "outputs": [
    {
     "name": "stdout",
     "output_type": "stream",
     "text": [
      "21\n",
      "12\n"
     ]
    }
   ],
   "source": [
    "def f(x):\n",
    "    return x ** 3 + 3 * (x ** 2) + 1\n",
    "\n",
    "print(f(-1))\n",
    "\n",
    "# lambda parameter_list : expression\n",
    "f2 = lambda x : x ** 3 + 3 * (x ** 2) + 1\n",
    "print(f2(-1))"
   ]
  },
  {
   "cell_type": "code",
   "execution_count": 65,
   "metadata": {},
   "outputs": [
    {
     "name": "stdout",
     "output_type": "stream",
     "text": [
      "2 1 8\n"
     ]
    }
   ],
   "source": [
    "def f(x = 1, y = 1):\n",
    "    return x ** 3 + y ** 3\n",
    "\n",
    "print(f(), f(0), f(0,2))"
   ]
  },
  {
   "cell_type": "code",
   "execution_count": 71,
   "metadata": {},
   "outputs": [
    {
     "name": "stdout",
     "output_type": "stream",
     "text": [
      "BatchNorm2d(2, eps=1e-05, momentum=0.1, affine=True, track_running_stats=False)\n"
     ]
    }
   ],
   "source": [
    "import torch\n",
    "\n",
    "#BatchNorm2d(num_features, eps=1e-05, momentum=0.1, affine=True, track_running_stats=True)\n",
    "\n",
    "# bn = torch.nn.BatchNorm2d(2)\n",
    "# bn = torch.nn.BatchNorm2d(num_features=2)\n",
    "bn = torch.nn.BatchNorm2d(2, track_running_stats=False)\n",
    "print(bn)"
   ]
  },
  {
   "cell_type": "code",
   "execution_count": 78,
   "metadata": {},
   "outputs": [
    {
     "name": "stdout",
     "output_type": "stream",
     "text": [
      "('a', 'b', 'c', 'd')\n",
      "('a', 'b', 'c', 'd')\n",
      "('a', 'b', 'c', 'd')\n"
     ]
    }
   ],
   "source": [
    "def print_repeat(num, *content): # '*' can combine multi element to tuple\n",
    "    for _ in range(num): # _ is a unnecessary element\n",
    "        print(content)\n",
    "\n",
    "x = print_repeat(3, 'a', 'b', 'c', 'd')"
   ]
  },
  {
   "cell_type": "code",
   "execution_count": 82,
   "metadata": {},
   "outputs": [
    {
     "name": "stdout",
     "output_type": "stream",
     "text": [
      "4096 3 80 80\n",
      "[80, 80]\n",
      "4096\n"
     ]
    }
   ],
   "source": [
    "# _ is a unnecessary element\n",
    "dim = (4096, 3, 80, 80) # [N, channel, height, width]\n",
    "batch_size, channel, height, width = dim\n",
    "# batch_size, _, height, width = dim\n",
    "print(batch_size, channel, height, width)\n",
    "\n",
    "_, _, *size = dim\n",
    "print(size)\n",
    "batch_size, *_ = dim\n",
    "print(batch_size)"
   ]
  },
  {
   "cell_type": "code",
   "execution_count": 87,
   "metadata": {},
   "outputs": [
    {
     "name": "stdout",
     "output_type": "stream",
     "text": [
      "p: (1, 2)\n",
      "p: (2, 2)\n",
      "p: (3, 4)\n",
      "x: 1, y: 2\n",
      "x: 2, y: 2\n",
      "x: 3, y: 4\n"
     ]
    }
   ],
   "source": [
    "points = [(1, 2), (2, 2), (3, 4)]\n",
    "for p in points:\n",
    "    # p is tuple\n",
    "    print(f'p: {p}')\n",
    "\n",
    "for x, y in points:\n",
    "    # x and y are both int\n",
    "    print(f'x: {x}, y: {y}')"
   ]
  },
  {
   "cell_type": "code",
   "execution_count": 91,
   "metadata": {},
   "outputs": [
    {
     "name": "stdout",
     "output_type": "stream",
     "text": [
      "BatchNorm2d(2, eps=1e-05, momentum=None, affine=True, track_running_stats=False) BatchNorm2d(25, eps=1e-05, momentum=None, affine=True, track_running_stats=False)\n"
     ]
    }
   ],
   "source": [
    "# BatchNorm2d(num_features, eps=1e-05, momentum=0.1, affine=True, track_running_stats=True)\n",
    "bn_args = {\n",
    "    'momentum': None,\n",
    "    'track_running_stats': False,\n",
    "}\n",
    "\n",
    "# '**' is used to unpacking dictionary \n",
    "# '*' is used to unpacking index \n",
    "bn1 = torch.nn.BatchNorm2d(2, **bn_args)\n",
    "bn2 = torch.nn.BatchNorm2d(25, **bn_args)\n",
    "\n",
    "print(bn1, bn2)"
   ]
  },
  {
   "cell_type": "code",
   "execution_count": 99,
   "metadata": {},
   "outputs": [
    {
     "name": "stdout",
     "output_type": "stream",
     "text": [
      "[[1, 6, 11], [2, 7, 12], [3, 8, 13], [4, 9, 14], [5, 10, 15]]\n"
     ]
    }
   ],
   "source": [
    "before = [\n",
    "    [1, 2, 3, 4, 5],\n",
    "    [6, 7, 8, 9, 10],\n",
    "    [11, 12, 13, 14 ,15]\n",
    "]\n",
    "\n",
    "after = [\n",
    "    [1, 6, 11],\n",
    "    [2, 7, 12],\n",
    "    [3, 8, 13],\n",
    "    [4, 9, 14],\n",
    "    [5, 10, 15]\n",
    "]\n",
    "\n",
    "print(list(map(list, zip(*before))))\n",
    "\n",
    "# Original:\n",
    "squares = []\n",
    "for x in range(10):\n",
    "    squares.append(x ** 2)\n",
    "print(squares)\n",
    "# List comprehensions\n",
    "squares = [x ** 2 for x in range(10)]\n",
    "print(squares)"
   ]
  },
  {
   "cell_type": "code",
   "execution_count": 108,
   "metadata": {},
   "outputs": [
    {
     "name": "stdout",
     "output_type": "stream",
     "text": [
      "['This is demo.', 'For demo!']\n",
      "[(1, 2), (3, 4)]\n",
      "[3, -4, -7]\n"
     ]
    }
   ],
   "source": [
    "# Example:\n",
    "\n",
    "def preprocess(x):\n",
    "    # do something\n",
    "    return x\n",
    "\n",
    "raw_data = ['This is demo.', 'For demo!']\n",
    "input_data = [preprocess(x) for x in raw_data]\n",
    "print(input_data)\n",
    "\n",
    "#Example:\n",
    "def preprocess(x ,y):\n",
    "    # do something\n",
    "    return x, y\n",
    "\n",
    "raw_data = [(1, 2), (2, 2), (3, 4)]\n",
    "data = [preprocess(x, y) for x, y in raw_data if x != y]\n",
    "print(data)\n",
    "\n",
    "#Example:\n",
    "\n",
    "def pos_preprocess(x, y):\n",
    "    # do something\n",
    "    return x+y\n",
    "\n",
    "def neg_preprocess(x, y):\n",
    "    return x-y\n",
    "\n",
    "raw_data = [(1, 2), (-2, 2), (-3, 4)]\n",
    "data = [pos_preprocess(x, y) if x > 0 else neg_preprocess(x, y) for x, y in raw_data]\n",
    "print(data)\n",
    "\n",
    "# Example:\n",
    "data = [1, 2, 3]\n",
    "data_tensor = [torch.Tensor([x]) for x in data]\n",
    "print(data_tensor)"
   ]
  },
  {
   "cell_type": "code",
   "execution_count": 113,
   "metadata": {},
   "outputs": [
    {
     "name": "stdout",
     "output_type": "stream",
     "text": [
      "{0: 'a', 1: 'b'}\n"
     ]
    }
   ],
   "source": [
    "# Practice\n",
    "\n",
    "char_to_index = {'a': 0, 'b' : 1}\n",
    "index_to_char = {v: k for k, v in char_to_index.items()}\n",
    "print(index_to_char)"
   ]
  },
  {
   "cell_type": "code",
   "execution_count": 119,
   "metadata": {},
   "outputs": [],
   "source": [
    "import torch.nn as nn\n",
    "# class\n",
    "class MyNN(torch.nn.Module):\n",
    "    def __init__(self, input_size, hidden_size):\n",
    "        super().__init__()\n",
    "        self.layer = nn.Linear(input_size, hidden_size)\n",
    "    \n",
    "    def forward(self, x):\n",
    "        return self.layer(x)"
   ]
  },
  {
   "cell_type": "code",
   "execution_count": 120,
   "metadata": {},
   "outputs": [
    {
     "name": "stdout",
     "output_type": "stream",
     "text": [
      "MyNN(\n",
      "  (layer): Linear(in_features=3, out_features=3, bias=True)\n",
      ")\n"
     ]
    }
   ],
   "source": [
    "net = MyNN(3,3)\n",
    "print(net)"
   ]
  }
 ],
 "metadata": {
  "kernelspec": {
   "display_name": "dl",
   "language": "python",
   "name": "python3"
  },
  "language_info": {
   "codemirror_mode": {
    "name": "ipython",
    "version": 3
   },
   "file_extension": ".py",
   "mimetype": "text/x-python",
   "name": "python",
   "nbconvert_exporter": "python",
   "pygments_lexer": "ipython3",
   "version": "3.8.19"
  }
 },
 "nbformat": 4,
 "nbformat_minor": 2
}
